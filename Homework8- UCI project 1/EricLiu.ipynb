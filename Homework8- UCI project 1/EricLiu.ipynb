{
 "cells": [
  {
   "cell_type": "code",
   "execution_count": 1,
   "metadata": {},
   "outputs": [],
   "source": [
    "# Decorations\n",
    "import requests\n",
    "import pandas as pd\n",
    "import numpy as np\n",
    "import matplotlib.pyplot as plt\n",
    "from pprint import pprint\n",
    "import gmplot\n",
    "from config import api_key"
   ]
  },
  {
   "cell_type": "code",
   "execution_count": 2,
   "metadata": {},
   "outputs": [],
   "source": [
    "# Import database\n",
    "df1 = pd.read_csv('Data/housing.csv')\n",
    "df2 = pd.read_csv('Data/Total.csv')\n",
    "df1 = df1.dropna()"
   ]
  },
  {
   "cell_type": "markdown",
   "metadata": {},
   "source": [
    "### df1(1990) Analysis"
   ]
  },
  {
   "cell_type": "markdown",
   "metadata": {},
   "source": [
    "Sort and slice data to get top and bottom 5%"
   ]
  },
  {
   "cell_type": "code",
   "execution_count": 3,
   "metadata": {
    "scrolled": true
   },
   "outputs": [
    {
     "data": {
      "text/html": [
       "<div>\n",
       "<style scoped>\n",
       "    .dataframe tbody tr th:only-of-type {\n",
       "        vertical-align: middle;\n",
       "    }\n",
       "\n",
       "    .dataframe tbody tr th {\n",
       "        vertical-align: top;\n",
       "    }\n",
       "\n",
       "    .dataframe thead th {\n",
       "        text-align: right;\n",
       "    }\n",
       "</style>\n",
       "<table border=\"1\" class=\"dataframe\">\n",
       "  <thead>\n",
       "    <tr style=\"text-align: right;\">\n",
       "      <th></th>\n",
       "      <th>longitude</th>\n",
       "      <th>latitude</th>\n",
       "      <th>housing_median_age</th>\n",
       "      <th>total_rooms</th>\n",
       "      <th>total_bedrooms</th>\n",
       "      <th>population</th>\n",
       "      <th>households</th>\n",
       "      <th>median_income</th>\n",
       "      <th>median_house_value</th>\n",
       "      <th>ocean_proximity</th>\n",
       "    </tr>\n",
       "  </thead>\n",
       "  <tbody>\n",
       "    <tr>\n",
       "      <th>0</th>\n",
       "      <td>-118.42</td>\n",
       "      <td>34.08</td>\n",
       "      <td>48</td>\n",
       "      <td>2413</td>\n",
       "      <td>261.0</td>\n",
       "      <td>770</td>\n",
       "      <td>248</td>\n",
       "      <td>15.0001</td>\n",
       "      <td>500001</td>\n",
       "      <td>&lt;1H OCEAN</td>\n",
       "    </tr>\n",
       "    <tr>\n",
       "      <th>1</th>\n",
       "      <td>-117.66</td>\n",
       "      <td>33.48</td>\n",
       "      <td>22</td>\n",
       "      <td>809</td>\n",
       "      <td>180.0</td>\n",
       "      <td>334</td>\n",
       "      <td>157</td>\n",
       "      <td>2.3846</td>\n",
       "      <td>500001</td>\n",
       "      <td>&lt;1H OCEAN</td>\n",
       "    </tr>\n",
       "    <tr>\n",
       "      <th>2</th>\n",
       "      <td>-118.50</td>\n",
       "      <td>33.97</td>\n",
       "      <td>29</td>\n",
       "      <td>2737</td>\n",
       "      <td>808.0</td>\n",
       "      <td>1157</td>\n",
       "      <td>696</td>\n",
       "      <td>5.1280</td>\n",
       "      <td>500001</td>\n",
       "      <td>&lt;1H OCEAN</td>\n",
       "    </tr>\n",
       "    <tr>\n",
       "      <th>3</th>\n",
       "      <td>-122.47</td>\n",
       "      <td>37.73</td>\n",
       "      <td>50</td>\n",
       "      <td>1653</td>\n",
       "      <td>252.0</td>\n",
       "      <td>641</td>\n",
       "      <td>224</td>\n",
       "      <td>10.6605</td>\n",
       "      <td>500001</td>\n",
       "      <td>NEAR OCEAN</td>\n",
       "    </tr>\n",
       "    <tr>\n",
       "      <th>4</th>\n",
       "      <td>-122.47</td>\n",
       "      <td>37.73</td>\n",
       "      <td>52</td>\n",
       "      <td>2151</td>\n",
       "      <td>280.0</td>\n",
       "      <td>762</td>\n",
       "      <td>274</td>\n",
       "      <td>10.7309</td>\n",
       "      <td>500001</td>\n",
       "      <td>NEAR OCEAN</td>\n",
       "    </tr>\n",
       "  </tbody>\n",
       "</table>\n",
       "</div>"
      ],
      "text/plain": [
       "   longitude  latitude  housing_median_age  total_rooms  total_bedrooms  \\\n",
       "0    -118.42     34.08                  48         2413           261.0   \n",
       "1    -117.66     33.48                  22          809           180.0   \n",
       "2    -118.50     33.97                  29         2737           808.0   \n",
       "3    -122.47     37.73                  50         1653           252.0   \n",
       "4    -122.47     37.73                  52         2151           280.0   \n",
       "\n",
       "   population  households  median_income  median_house_value ocean_proximity  \n",
       "0         770         248        15.0001              500001       <1H OCEAN  \n",
       "1         334         157         2.3846              500001       <1H OCEAN  \n",
       "2        1157         696         5.1280              500001       <1H OCEAN  \n",
       "3         641         224        10.6605              500001      NEAR OCEAN  \n",
       "4         762         274        10.7309              500001      NEAR OCEAN  "
      ]
     },
     "execution_count": 3,
     "metadata": {},
     "output_type": "execute_result"
    }
   ],
   "source": [
    "# SSort data by house value\n",
    "df1 = df1.sort_values('median_house_value', ascending=False).reset_index(drop=True)\n",
    "df1.head()"
   ]
  },
  {
   "cell_type": "code",
   "execution_count": 4,
   "metadata": {},
   "outputs": [],
   "source": [
    "# Slice the top 5%\n",
    "top5 = df1.iloc[:round(len(df1['median_house_value'])*0.05), :].sort_values('median_house_value', ascending=True)"
   ]
  },
  {
   "cell_type": "code",
   "execution_count": 5,
   "metadata": {},
   "outputs": [],
   "source": [
    "# slice the bottom 5%\n",
    "bottom5 = df1.iloc[round(len(df1['median_house_value'])*0.95): len(df1['median_house_value']),:].sort_values('median_house_value', ascending=True)"
   ]
  },
  {
   "cell_type": "markdown",
   "metadata": {},
   "source": [
    "Plotting Top 5% and Bottom 5% on gmap (Use gmplot package)"
   ]
  },
  {
   "cell_type": "code",
   "execution_count": 6,
   "metadata": {},
   "outputs": [],
   "source": [
    "# Set the center of the map\n",
    "gmap_df1 = gmplot.GoogleMapPlotter(df1['latitude'].median(),\n",
    "                                   df1['longitude'].median(), 100000)\n",
    "# Plot scatter points based on LatLng\n",
    "gmap_df1.scatter(df1['latitude'], df1['longitude'], '#FF0000', \n",
    "                              size = 2000, marker = False ) \n",
    "# Draw out to 'Plot' folder in html format\n",
    "gmap_df1.draw(\"gmap_df1.html\")"
   ]
  },
  {
   "cell_type": "code",
   "execution_count": 8,
   "metadata": {},
   "outputs": [],
   "source": [
    "# Set the center of the map\n",
    "gmap = gmplot.GoogleMapPlotter(top5['latitude'].median(),\n",
    "                                   top5['longitude'].median(), 100000)\n",
    "# Plot scatter points based on LatLng\n",
    "gmap.scatter(top5['latitude'], top5['longitude'], '#FF0000', \n",
    "                              size = 2000, marker = False ) \n",
    "gmap.scatter(bottom5['latitude'], bottom5['longitude'], '#110870', \n",
    "                              size = 2000, marker = False ) \n",
    "# Draw out to 'Plot' folder in html format\n",
    "gmap.draw(\"gmap.html\")"
   ]
  },
  {
   "cell_type": "markdown",
   "metadata": {},
   "source": [
    "### df2(2018) Analysis "
   ]
  },
  {
   "cell_type": "code",
   "execution_count": 9,
   "metadata": {},
   "outputs": [
    {
     "data": {
      "text/html": [
       "<div>\n",
       "<style scoped>\n",
       "    .dataframe tbody tr th:only-of-type {\n",
       "        vertical-align: middle;\n",
       "    }\n",
       "\n",
       "    .dataframe tbody tr th {\n",
       "        vertical-align: top;\n",
       "    }\n",
       "\n",
       "    .dataframe thead th {\n",
       "        text-align: right;\n",
       "    }\n",
       "</style>\n",
       "<table border=\"1\" class=\"dataframe\">\n",
       "  <thead>\n",
       "    <tr style=\"text-align: right;\">\n",
       "      <th></th>\n",
       "      <th>Sub Type</th>\n",
       "      <th>St#</th>\n",
       "      <th>St Name</th>\n",
       "      <th>City</th>\n",
       "      <th>L/C Price</th>\n",
       "      <th>Br/Ba</th>\n",
       "      <th>YrBuilt</th>\n",
       "    </tr>\n",
       "  </thead>\n",
       "  <tbody>\n",
       "    <tr>\n",
       "      <th>0</th>\n",
       "      <td>MANL/D</td>\n",
       "      <td>12</td>\n",
       "      <td>Via Veneto    #12</td>\n",
       "      <td>CHU</td>\n",
       "      <td>$89,000</td>\n",
       "      <td>2/2,0,0,0</td>\n",
       "      <td>2006</td>\n",
       "    </tr>\n",
       "    <tr>\n",
       "      <th>1</th>\n",
       "      <td>CONDO/A</td>\n",
       "      <td>1653</td>\n",
       "      <td>Pentecost Way    #1</td>\n",
       "      <td>SD</td>\n",
       "      <td>$158,000</td>\n",
       "      <td>1/1,0,0,0</td>\n",
       "      <td>1980</td>\n",
       "    </tr>\n",
       "    <tr>\n",
       "      <th>2</th>\n",
       "      <td>CONDO/A</td>\n",
       "      <td>6101</td>\n",
       "      <td>Adelaide Ave    #107</td>\n",
       "      <td>SD</td>\n",
       "      <td>$168,250</td>\n",
       "      <td>0/1,0,0,0</td>\n",
       "      <td>1984/ASR</td>\n",
       "    </tr>\n",
       "    <tr>\n",
       "      <th>3</th>\n",
       "      <td>CONDO/A</td>\n",
       "      <td>589 N</td>\n",
       "      <td>Johnson    #137</td>\n",
       "      <td>ELC</td>\n",
       "      <td>$175,000</td>\n",
       "      <td>2/1,0,0,0</td>\n",
       "      <td>1980</td>\n",
       "    </tr>\n",
       "    <tr>\n",
       "      <th>4</th>\n",
       "      <td>SFR</td>\n",
       "      <td>3138</td>\n",
       "      <td>Roadrunner</td>\n",
       "      <td>BSPG</td>\n",
       "      <td>$190,000</td>\n",
       "      <td>2/2,0,0,0</td>\n",
       "      <td>1986</td>\n",
       "    </tr>\n",
       "  </tbody>\n",
       "</table>\n",
       "</div>"
      ],
      "text/plain": [
       "  Sub Type    St#               St Name  City  L/C Price      Br/Ba   YrBuilt\n",
       "0   MANL/D     12     Via Veneto    #12   CHU   $89,000   2/2,0,0,0      2006\n",
       "1  CONDO/A   1653   Pentecost Way    #1    SD  $158,000   1/1,0,0,0      1980\n",
       "2  CONDO/A   6101  Adelaide Ave    #107    SD  $168,250   0/1,0,0,0  1984/ASR\n",
       "3  CONDO/A  589 N       Johnson    #137   ELC  $175,000   2/1,0,0,0      1980\n",
       "4      SFR   3138         Roadrunner     BSPG  $190,000   2/2,0,0,0      1986"
      ]
     },
     "execution_count": 9,
     "metadata": {},
     "output_type": "execute_result"
    }
   ],
   "source": [
    "# Keep only the columns that are useful \n",
    "df2 = df2[['Sub Type', 'St#', 'St Name', 'City', 'L/C Price', 'Br/Ba', 'YrBuilt']]\n",
    "df2.head()"
   ]
  },
  {
   "cell_type": "code",
   "execution_count": 10,
   "metadata": {},
   "outputs": [],
   "source": [
    "yr_blt = df2.loc[:, 'YrBuilt'].str.split('/', expand=True)[0]\n",
    "yr_blt = pd.DataFrame(yr_blt)\n",
    "yr_blt = yr_blt.fillna(0)"
   ]
  },
  {
   "cell_type": "code",
   "execution_count": 11,
   "metadata": {
    "scrolled": false
   },
   "outputs": [
    {
     "data": {
      "text/html": [
       "<div>\n",
       "<style scoped>\n",
       "    .dataframe tbody tr th:only-of-type {\n",
       "        vertical-align: middle;\n",
       "    }\n",
       "\n",
       "    .dataframe tbody tr th {\n",
       "        vertical-align: top;\n",
       "    }\n",
       "\n",
       "    .dataframe thead th {\n",
       "        text-align: right;\n",
       "    }\n",
       "</style>\n",
       "<table border=\"1\" class=\"dataframe\">\n",
       "  <thead>\n",
       "    <tr style=\"text-align: right;\">\n",
       "      <th></th>\n",
       "      <th>Sub Type</th>\n",
       "      <th>St#</th>\n",
       "      <th>St Name</th>\n",
       "      <th>City</th>\n",
       "      <th>L/C Price</th>\n",
       "      <th>Br/Ba</th>\n",
       "      <th>YrBuilt</th>\n",
       "      <th>Age</th>\n",
       "    </tr>\n",
       "  </thead>\n",
       "  <tbody>\n",
       "    <tr>\n",
       "      <th>0</th>\n",
       "      <td>MANL/D</td>\n",
       "      <td>12</td>\n",
       "      <td>Via Veneto    #12</td>\n",
       "      <td>CHU</td>\n",
       "      <td>$89,000</td>\n",
       "      <td>2/2,0,0,0</td>\n",
       "      <td>2006</td>\n",
       "      <td>12</td>\n",
       "    </tr>\n",
       "    <tr>\n",
       "      <th>1</th>\n",
       "      <td>CONDO/A</td>\n",
       "      <td>1653</td>\n",
       "      <td>Pentecost Way    #1</td>\n",
       "      <td>SD</td>\n",
       "      <td>$158,000</td>\n",
       "      <td>1/1,0,0,0</td>\n",
       "      <td>1980</td>\n",
       "      <td>38</td>\n",
       "    </tr>\n",
       "    <tr>\n",
       "      <th>2</th>\n",
       "      <td>CONDO/A</td>\n",
       "      <td>6101</td>\n",
       "      <td>Adelaide Ave    #107</td>\n",
       "      <td>SD</td>\n",
       "      <td>$168,250</td>\n",
       "      <td>0/1,0,0,0</td>\n",
       "      <td>1984/ASR</td>\n",
       "      <td>34</td>\n",
       "    </tr>\n",
       "    <tr>\n",
       "      <th>3</th>\n",
       "      <td>CONDO/A</td>\n",
       "      <td>589 N</td>\n",
       "      <td>Johnson    #137</td>\n",
       "      <td>ELC</td>\n",
       "      <td>$175,000</td>\n",
       "      <td>2/1,0,0,0</td>\n",
       "      <td>1980</td>\n",
       "      <td>38</td>\n",
       "    </tr>\n",
       "    <tr>\n",
       "      <th>4</th>\n",
       "      <td>SFR</td>\n",
       "      <td>3138</td>\n",
       "      <td>Roadrunner</td>\n",
       "      <td>BSPG</td>\n",
       "      <td>$190,000</td>\n",
       "      <td>2/2,0,0,0</td>\n",
       "      <td>1986</td>\n",
       "      <td>32</td>\n",
       "    </tr>\n",
       "  </tbody>\n",
       "</table>\n",
       "</div>"
      ],
      "text/plain": [
       "  Sub Type    St#               St Name  City  L/C Price      Br/Ba   YrBuilt  \\\n",
       "0   MANL/D     12     Via Veneto    #12   CHU   $89,000   2/2,0,0,0      2006   \n",
       "1  CONDO/A   1653   Pentecost Way    #1    SD  $158,000   1/1,0,0,0      1980   \n",
       "2  CONDO/A   6101  Adelaide Ave    #107    SD  $168,250   0/1,0,0,0  1984/ASR   \n",
       "3  CONDO/A  589 N       Johnson    #137   ELC  $175,000   2/1,0,0,0      1980   \n",
       "4      SFR   3138         Roadrunner     BSPG  $190,000   2/2,0,0,0      1986   \n",
       "\n",
       "  Age  \n",
       "0  12  \n",
       "1  38  \n",
       "2  34  \n",
       "3  38  \n",
       "4  32  "
      ]
     },
     "execution_count": 11,
     "metadata": {},
     "output_type": "execute_result"
    }
   ],
   "source": [
    "df2['Age'] = ''\n",
    "count = 0\n",
    "for i in yr_blt[0]:\n",
    "        i = 2018 - int(i)\n",
    "        df2['Age'][count] = i\n",
    "        count += 1\n",
    "df2.head()"
   ]
  },
  {
   "cell_type": "code",
   "execution_count": 12,
   "metadata": {},
   "outputs": [],
   "source": [
    "df2['house_price'] = df2.loc[:, 'L/C Price'].str.split('$', expand=True)[1] "
   ]
  },
  {
   "cell_type": "code",
   "execution_count": 13,
   "metadata": {},
   "outputs": [
    {
     "data": {
      "text/html": [
       "<div>\n",
       "<style scoped>\n",
       "    .dataframe tbody tr th:only-of-type {\n",
       "        vertical-align: middle;\n",
       "    }\n",
       "\n",
       "    .dataframe tbody tr th {\n",
       "        vertical-align: top;\n",
       "    }\n",
       "\n",
       "    .dataframe thead th {\n",
       "        text-align: right;\n",
       "    }\n",
       "</style>\n",
       "<table border=\"1\" class=\"dataframe\">\n",
       "  <thead>\n",
       "    <tr style=\"text-align: right;\">\n",
       "      <th></th>\n",
       "      <th>Sub Type</th>\n",
       "      <th>St#</th>\n",
       "      <th>St Name</th>\n",
       "      <th>City</th>\n",
       "      <th>L/C Price</th>\n",
       "      <th>Br/Ba</th>\n",
       "      <th>YrBuilt</th>\n",
       "      <th>Age</th>\n",
       "      <th>house_price</th>\n",
       "    </tr>\n",
       "  </thead>\n",
       "  <tbody>\n",
       "    <tr>\n",
       "      <th>0</th>\n",
       "      <td>MANL/D</td>\n",
       "      <td>12</td>\n",
       "      <td>Via Veneto    #12</td>\n",
       "      <td>CHU</td>\n",
       "      <td>$89,000</td>\n",
       "      <td>2/2,0,0,0</td>\n",
       "      <td>2006</td>\n",
       "      <td>12</td>\n",
       "      <td>89,000</td>\n",
       "    </tr>\n",
       "    <tr>\n",
       "      <th>1</th>\n",
       "      <td>CONDO/A</td>\n",
       "      <td>1653</td>\n",
       "      <td>Pentecost Way    #1</td>\n",
       "      <td>SD</td>\n",
       "      <td>$158,000</td>\n",
       "      <td>1/1,0,0,0</td>\n",
       "      <td>1980</td>\n",
       "      <td>38</td>\n",
       "      <td>158,000</td>\n",
       "    </tr>\n",
       "    <tr>\n",
       "      <th>2</th>\n",
       "      <td>CONDO/A</td>\n",
       "      <td>6101</td>\n",
       "      <td>Adelaide Ave    #107</td>\n",
       "      <td>SD</td>\n",
       "      <td>$168,250</td>\n",
       "      <td>0/1,0,0,0</td>\n",
       "      <td>1984/ASR</td>\n",
       "      <td>34</td>\n",
       "      <td>168,250</td>\n",
       "    </tr>\n",
       "    <tr>\n",
       "      <th>3</th>\n",
       "      <td>CONDO/A</td>\n",
       "      <td>589 N</td>\n",
       "      <td>Johnson    #137</td>\n",
       "      <td>ELC</td>\n",
       "      <td>$175,000</td>\n",
       "      <td>2/1,0,0,0</td>\n",
       "      <td>1980</td>\n",
       "      <td>38</td>\n",
       "      <td>175,000</td>\n",
       "    </tr>\n",
       "    <tr>\n",
       "      <th>4</th>\n",
       "      <td>SFR</td>\n",
       "      <td>3138</td>\n",
       "      <td>Roadrunner</td>\n",
       "      <td>BSPG</td>\n",
       "      <td>$190,000</td>\n",
       "      <td>2/2,0,0,0</td>\n",
       "      <td>1986</td>\n",
       "      <td>32</td>\n",
       "      <td>190,000</td>\n",
       "    </tr>\n",
       "  </tbody>\n",
       "</table>\n",
       "</div>"
      ],
      "text/plain": [
       "  Sub Type    St#               St Name  City  L/C Price      Br/Ba   YrBuilt  \\\n",
       "0   MANL/D     12     Via Veneto    #12   CHU   $89,000   2/2,0,0,0      2006   \n",
       "1  CONDO/A   1653   Pentecost Way    #1    SD  $158,000   1/1,0,0,0      1980   \n",
       "2  CONDO/A   6101  Adelaide Ave    #107    SD  $168,250   0/1,0,0,0  1984/ASR   \n",
       "3  CONDO/A  589 N       Johnson    #137   ELC  $175,000   2/1,0,0,0      1980   \n",
       "4      SFR   3138         Roadrunner     BSPG  $190,000   2/2,0,0,0      1986   \n",
       "\n",
       "  Age house_price  \n",
       "0  12     89,000   \n",
       "1  38    158,000   \n",
       "2  34    168,250   \n",
       "3  38    175,000   \n",
       "4  32    190,000   "
      ]
     },
     "execution_count": 13,
     "metadata": {},
     "output_type": "execute_result"
    }
   ],
   "source": [
    "df2.head()"
   ]
  },
  {
   "cell_type": "code",
   "execution_count": 14,
   "metadata": {},
   "outputs": [
    {
     "data": {
      "text/html": [
       "<div>\n",
       "<style scoped>\n",
       "    .dataframe tbody tr th:only-of-type {\n",
       "        vertical-align: middle;\n",
       "    }\n",
       "\n",
       "    .dataframe tbody tr th {\n",
       "        vertical-align: top;\n",
       "    }\n",
       "\n",
       "    .dataframe thead th {\n",
       "        text-align: right;\n",
       "    }\n",
       "</style>\n",
       "<table border=\"1\" class=\"dataframe\">\n",
       "  <thead>\n",
       "    <tr style=\"text-align: right;\">\n",
       "      <th></th>\n",
       "      <th>L/C Price</th>\n",
       "      <th>Sub Type</th>\n",
       "      <th>St#</th>\n",
       "      <th>St Name</th>\n",
       "      <th>City</th>\n",
       "      <th>Br/Ba</th>\n",
       "      <th>YrBuilt</th>\n",
       "      <th>Age</th>\n",
       "      <th>house_price</th>\n",
       "    </tr>\n",
       "  </thead>\n",
       "  <tbody>\n",
       "    <tr>\n",
       "      <th>0</th>\n",
       "      <td>$89,000</td>\n",
       "      <td>MANL/D</td>\n",
       "      <td>12</td>\n",
       "      <td>Via Veneto    #12</td>\n",
       "      <td>CHU</td>\n",
       "      <td>2/2,0,0,0</td>\n",
       "      <td>2006</td>\n",
       "      <td>12</td>\n",
       "      <td>89,000</td>\n",
       "    </tr>\n",
       "    <tr>\n",
       "      <th>1</th>\n",
       "      <td>$158,000</td>\n",
       "      <td>CONDO/A</td>\n",
       "      <td>1653</td>\n",
       "      <td>Pentecost Way    #1</td>\n",
       "      <td>SD</td>\n",
       "      <td>1/1,0,0,0</td>\n",
       "      <td>1980</td>\n",
       "      <td>38</td>\n",
       "      <td>158,000</td>\n",
       "    </tr>\n",
       "    <tr>\n",
       "      <th>2</th>\n",
       "      <td>$168,250</td>\n",
       "      <td>CONDO/A</td>\n",
       "      <td>6101</td>\n",
       "      <td>Adelaide Ave    #107</td>\n",
       "      <td>SD</td>\n",
       "      <td>0/1,0,0,0</td>\n",
       "      <td>1984/ASR</td>\n",
       "      <td>34</td>\n",
       "      <td>168,250</td>\n",
       "    </tr>\n",
       "    <tr>\n",
       "      <th>3</th>\n",
       "      <td>$175,000</td>\n",
       "      <td>CONDO/A</td>\n",
       "      <td>589 N</td>\n",
       "      <td>Johnson    #137</td>\n",
       "      <td>ELC</td>\n",
       "      <td>2/1,0,0,0</td>\n",
       "      <td>1980</td>\n",
       "      <td>38</td>\n",
       "      <td>175,000</td>\n",
       "    </tr>\n",
       "    <tr>\n",
       "      <th>4</th>\n",
       "      <td>$190,000</td>\n",
       "      <td>SFR</td>\n",
       "      <td>3138</td>\n",
       "      <td>Roadrunner</td>\n",
       "      <td>BSPG</td>\n",
       "      <td>2/2,0,0,0</td>\n",
       "      <td>1986</td>\n",
       "      <td>32</td>\n",
       "      <td>190,000</td>\n",
       "    </tr>\n",
       "  </tbody>\n",
       "</table>\n",
       "</div>"
      ],
      "text/plain": [
       "   L/C Price Sub Type    St#               St Name  City      Br/Ba   YrBuilt  \\\n",
       "0   $89,000    MANL/D     12     Via Veneto    #12   CHU  2/2,0,0,0      2006   \n",
       "1  $158,000   CONDO/A   1653   Pentecost Way    #1    SD  1/1,0,0,0      1980   \n",
       "2  $168,250   CONDO/A   6101  Adelaide Ave    #107    SD  0/1,0,0,0  1984/ASR   \n",
       "3  $175,000   CONDO/A  589 N       Johnson    #137   ELC  2/1,0,0,0      1980   \n",
       "4  $190,000       SFR   3138         Roadrunner     BSPG  2/2,0,0,0      1986   \n",
       "\n",
       "  Age house_price  \n",
       "0  12     89,000   \n",
       "1  38    158,000   \n",
       "2  34    168,250   \n",
       "3  38    175,000   \n",
       "4  32    190,000   "
      ]
     },
     "execution_count": 14,
     "metadata": {},
     "output_type": "execute_result"
    }
   ],
   "source": [
    "df2_by_value = df2.set_index(\"L/C Price\")\n",
    "df2_by_value = df2_by_value.reset_index()\n",
    "df2_by_value.head()"
   ]
  },
  {
   "cell_type": "markdown",
   "metadata": {},
   "source": [
    "### Getting LatLng using geocoder API for df2"
   ]
  },
  {
   "cell_type": "code",
   "execution_count": 16,
   "metadata": {},
   "outputs": [
    {
     "ename": "FileNotFoundError",
     "evalue": "File b'Data/CleanCityCode_nospace.csv' does not exist",
     "output_type": "error",
     "traceback": [
      "\u001b[0;31m---------------------------------------------------------------------------\u001b[0m",
      "\u001b[0;31mFileNotFoundError\u001b[0m                         Traceback (most recent call last)",
      "\u001b[0;32m<ipython-input-16-529679a81ea1>\u001b[0m in \u001b[0;36m<module>\u001b[0;34m()\u001b[0m\n\u001b[1;32m      1\u001b[0m \u001b[0;31m# import CityCode\u001b[0m\u001b[0;34m\u001b[0m\u001b[0;34m\u001b[0m\u001b[0m\n\u001b[0;32m----> 2\u001b[0;31m \u001b[0mcitycode_df\u001b[0m \u001b[0;34m=\u001b[0m \u001b[0mpd\u001b[0m\u001b[0;34m.\u001b[0m\u001b[0mread_csv\u001b[0m\u001b[0;34m(\u001b[0m\u001b[0;34m'Data/CleanCityCode_nospace.csv'\u001b[0m\u001b[0;34m)\u001b[0m\u001b[0;34m\u001b[0m\u001b[0m\n\u001b[0m\u001b[1;32m      3\u001b[0m \u001b[0mcitycode_df\u001b[0m \u001b[0;34m=\u001b[0m \u001b[0mcitycode_df\u001b[0m\u001b[0;34m[\u001b[0m\u001b[0;34m[\u001b[0m\u001b[0;34m'City'\u001b[0m\u001b[0;34m,\u001b[0m \u001b[0;34m'Code'\u001b[0m\u001b[0;34m]\u001b[0m\u001b[0;34m]\u001b[0m\u001b[0;34m\u001b[0m\u001b[0m\n\u001b[1;32m      4\u001b[0m \u001b[0mcitycode_df\u001b[0m\u001b[0;34m[\u001b[0m\u001b[0;34m'Code'\u001b[0m\u001b[0;34m]\u001b[0m \u001b[0;34m=\u001b[0m \u001b[0mcitycode_df\u001b[0m\u001b[0;34m[\u001b[0m\u001b[0;34m'Code'\u001b[0m\u001b[0;34m]\u001b[0m\u001b[0;34m.\u001b[0m\u001b[0mstr\u001b[0m\u001b[0;34m.\u001b[0m\u001b[0mstrip\u001b[0m\u001b[0;34m(\u001b[0m\u001b[0;34m)\u001b[0m\u001b[0;34m\u001b[0m\u001b[0m\n",
      "\u001b[0;32m~/anaconda3/envs/PythonData/lib/python3.6/site-packages/pandas/io/parsers.py\u001b[0m in \u001b[0;36mparser_f\u001b[0;34m(filepath_or_buffer, sep, delimiter, header, names, index_col, usecols, squeeze, prefix, mangle_dupe_cols, dtype, engine, converters, true_values, false_values, skipinitialspace, skiprows, nrows, na_values, keep_default_na, na_filter, verbose, skip_blank_lines, parse_dates, infer_datetime_format, keep_date_col, date_parser, dayfirst, iterator, chunksize, compression, thousands, decimal, lineterminator, quotechar, quoting, escapechar, comment, encoding, dialect, tupleize_cols, error_bad_lines, warn_bad_lines, skipfooter, doublequote, delim_whitespace, low_memory, memory_map, float_precision)\u001b[0m\n\u001b[1;32m    676\u001b[0m                     skip_blank_lines=skip_blank_lines)\n\u001b[1;32m    677\u001b[0m \u001b[0;34m\u001b[0m\u001b[0m\n\u001b[0;32m--> 678\u001b[0;31m         \u001b[0;32mreturn\u001b[0m \u001b[0m_read\u001b[0m\u001b[0;34m(\u001b[0m\u001b[0mfilepath_or_buffer\u001b[0m\u001b[0;34m,\u001b[0m \u001b[0mkwds\u001b[0m\u001b[0;34m)\u001b[0m\u001b[0;34m\u001b[0m\u001b[0m\n\u001b[0m\u001b[1;32m    679\u001b[0m \u001b[0;34m\u001b[0m\u001b[0m\n\u001b[1;32m    680\u001b[0m     \u001b[0mparser_f\u001b[0m\u001b[0;34m.\u001b[0m\u001b[0m__name__\u001b[0m \u001b[0;34m=\u001b[0m \u001b[0mname\u001b[0m\u001b[0;34m\u001b[0m\u001b[0m\n",
      "\u001b[0;32m~/anaconda3/envs/PythonData/lib/python3.6/site-packages/pandas/io/parsers.py\u001b[0m in \u001b[0;36m_read\u001b[0;34m(filepath_or_buffer, kwds)\u001b[0m\n\u001b[1;32m    438\u001b[0m \u001b[0;34m\u001b[0m\u001b[0m\n\u001b[1;32m    439\u001b[0m     \u001b[0;31m# Create the parser.\u001b[0m\u001b[0;34m\u001b[0m\u001b[0;34m\u001b[0m\u001b[0m\n\u001b[0;32m--> 440\u001b[0;31m     \u001b[0mparser\u001b[0m \u001b[0;34m=\u001b[0m \u001b[0mTextFileReader\u001b[0m\u001b[0;34m(\u001b[0m\u001b[0mfilepath_or_buffer\u001b[0m\u001b[0;34m,\u001b[0m \u001b[0;34m**\u001b[0m\u001b[0mkwds\u001b[0m\u001b[0;34m)\u001b[0m\u001b[0;34m\u001b[0m\u001b[0m\n\u001b[0m\u001b[1;32m    441\u001b[0m \u001b[0;34m\u001b[0m\u001b[0m\n\u001b[1;32m    442\u001b[0m     \u001b[0;32mif\u001b[0m \u001b[0mchunksize\u001b[0m \u001b[0;32mor\u001b[0m \u001b[0miterator\u001b[0m\u001b[0;34m:\u001b[0m\u001b[0;34m\u001b[0m\u001b[0m\n",
      "\u001b[0;32m~/anaconda3/envs/PythonData/lib/python3.6/site-packages/pandas/io/parsers.py\u001b[0m in \u001b[0;36m__init__\u001b[0;34m(self, f, engine, **kwds)\u001b[0m\n\u001b[1;32m    785\u001b[0m             \u001b[0mself\u001b[0m\u001b[0;34m.\u001b[0m\u001b[0moptions\u001b[0m\u001b[0;34m[\u001b[0m\u001b[0;34m'has_index_names'\u001b[0m\u001b[0;34m]\u001b[0m \u001b[0;34m=\u001b[0m \u001b[0mkwds\u001b[0m\u001b[0;34m[\u001b[0m\u001b[0;34m'has_index_names'\u001b[0m\u001b[0;34m]\u001b[0m\u001b[0;34m\u001b[0m\u001b[0m\n\u001b[1;32m    786\u001b[0m \u001b[0;34m\u001b[0m\u001b[0m\n\u001b[0;32m--> 787\u001b[0;31m         \u001b[0mself\u001b[0m\u001b[0;34m.\u001b[0m\u001b[0m_make_engine\u001b[0m\u001b[0;34m(\u001b[0m\u001b[0mself\u001b[0m\u001b[0;34m.\u001b[0m\u001b[0mengine\u001b[0m\u001b[0;34m)\u001b[0m\u001b[0;34m\u001b[0m\u001b[0m\n\u001b[0m\u001b[1;32m    788\u001b[0m \u001b[0;34m\u001b[0m\u001b[0m\n\u001b[1;32m    789\u001b[0m     \u001b[0;32mdef\u001b[0m \u001b[0mclose\u001b[0m\u001b[0;34m(\u001b[0m\u001b[0mself\u001b[0m\u001b[0;34m)\u001b[0m\u001b[0;34m:\u001b[0m\u001b[0;34m\u001b[0m\u001b[0m\n",
      "\u001b[0;32m~/anaconda3/envs/PythonData/lib/python3.6/site-packages/pandas/io/parsers.py\u001b[0m in \u001b[0;36m_make_engine\u001b[0;34m(self, engine)\u001b[0m\n\u001b[1;32m   1012\u001b[0m     \u001b[0;32mdef\u001b[0m \u001b[0m_make_engine\u001b[0m\u001b[0;34m(\u001b[0m\u001b[0mself\u001b[0m\u001b[0;34m,\u001b[0m \u001b[0mengine\u001b[0m\u001b[0;34m=\u001b[0m\u001b[0;34m'c'\u001b[0m\u001b[0;34m)\u001b[0m\u001b[0;34m:\u001b[0m\u001b[0;34m\u001b[0m\u001b[0m\n\u001b[1;32m   1013\u001b[0m         \u001b[0;32mif\u001b[0m \u001b[0mengine\u001b[0m \u001b[0;34m==\u001b[0m \u001b[0;34m'c'\u001b[0m\u001b[0;34m:\u001b[0m\u001b[0;34m\u001b[0m\u001b[0m\n\u001b[0;32m-> 1014\u001b[0;31m             \u001b[0mself\u001b[0m\u001b[0;34m.\u001b[0m\u001b[0m_engine\u001b[0m \u001b[0;34m=\u001b[0m \u001b[0mCParserWrapper\u001b[0m\u001b[0;34m(\u001b[0m\u001b[0mself\u001b[0m\u001b[0;34m.\u001b[0m\u001b[0mf\u001b[0m\u001b[0;34m,\u001b[0m \u001b[0;34m**\u001b[0m\u001b[0mself\u001b[0m\u001b[0;34m.\u001b[0m\u001b[0moptions\u001b[0m\u001b[0;34m)\u001b[0m\u001b[0;34m\u001b[0m\u001b[0m\n\u001b[0m\u001b[1;32m   1015\u001b[0m         \u001b[0;32melse\u001b[0m\u001b[0;34m:\u001b[0m\u001b[0;34m\u001b[0m\u001b[0m\n\u001b[1;32m   1016\u001b[0m             \u001b[0;32mif\u001b[0m \u001b[0mengine\u001b[0m \u001b[0;34m==\u001b[0m \u001b[0;34m'python'\u001b[0m\u001b[0;34m:\u001b[0m\u001b[0;34m\u001b[0m\u001b[0m\n",
      "\u001b[0;32m~/anaconda3/envs/PythonData/lib/python3.6/site-packages/pandas/io/parsers.py\u001b[0m in \u001b[0;36m__init__\u001b[0;34m(self, src, **kwds)\u001b[0m\n\u001b[1;32m   1706\u001b[0m         \u001b[0mkwds\u001b[0m\u001b[0;34m[\u001b[0m\u001b[0;34m'usecols'\u001b[0m\u001b[0;34m]\u001b[0m \u001b[0;34m=\u001b[0m \u001b[0mself\u001b[0m\u001b[0;34m.\u001b[0m\u001b[0musecols\u001b[0m\u001b[0;34m\u001b[0m\u001b[0m\n\u001b[1;32m   1707\u001b[0m \u001b[0;34m\u001b[0m\u001b[0m\n\u001b[0;32m-> 1708\u001b[0;31m         \u001b[0mself\u001b[0m\u001b[0;34m.\u001b[0m\u001b[0m_reader\u001b[0m \u001b[0;34m=\u001b[0m \u001b[0mparsers\u001b[0m\u001b[0;34m.\u001b[0m\u001b[0mTextReader\u001b[0m\u001b[0;34m(\u001b[0m\u001b[0msrc\u001b[0m\u001b[0;34m,\u001b[0m \u001b[0;34m**\u001b[0m\u001b[0mkwds\u001b[0m\u001b[0;34m)\u001b[0m\u001b[0;34m\u001b[0m\u001b[0m\n\u001b[0m\u001b[1;32m   1709\u001b[0m \u001b[0;34m\u001b[0m\u001b[0m\n\u001b[1;32m   1710\u001b[0m         \u001b[0mpassed_names\u001b[0m \u001b[0;34m=\u001b[0m \u001b[0mself\u001b[0m\u001b[0;34m.\u001b[0m\u001b[0mnames\u001b[0m \u001b[0;32mis\u001b[0m \u001b[0;32mNone\u001b[0m\u001b[0;34m\u001b[0m\u001b[0m\n",
      "\u001b[0;32mpandas/_libs/parsers.pyx\u001b[0m in \u001b[0;36mpandas._libs.parsers.TextReader.__cinit__\u001b[0;34m()\u001b[0m\n",
      "\u001b[0;32mpandas/_libs/parsers.pyx\u001b[0m in \u001b[0;36mpandas._libs.parsers.TextReader._setup_parser_source\u001b[0;34m()\u001b[0m\n",
      "\u001b[0;31mFileNotFoundError\u001b[0m: File b'Data/CleanCityCode_nospace.csv' does not exist"
     ]
    }
   ],
   "source": [
    "# import CityCode\n",
    "citycode_df = pd.read_csv('Data/CleanCityCode_nospace.csv')\n",
    "citycode_df = citycode_df[['City', 'Code']]\n",
    "citycode_df['Code'] = citycode_df['Code'].str.strip()"
   ]
  },
  {
   "cell_type": "code",
   "execution_count": 17,
   "metadata": {},
   "outputs": [
    {
     "ename": "NameError",
     "evalue": "name 'citycode_df' is not defined",
     "output_type": "error",
     "traceback": [
      "\u001b[0;31m---------------------------------------------------------------------------\u001b[0m",
      "\u001b[0;31mNameError\u001b[0m                                 Traceback (most recent call last)",
      "\u001b[0;32m<ipython-input-17-870a156fd30b>\u001b[0m in \u001b[0;36m<module>\u001b[0;34m()\u001b[0m\n\u001b[1;32m      1\u001b[0m \u001b[0mdf2_by_value\u001b[0m\u001b[0;34m[\u001b[0m\u001b[0;34m'City Name'\u001b[0m\u001b[0;34m]\u001b[0m \u001b[0;34m=\u001b[0m \u001b[0;34m\"\"\u001b[0m\u001b[0;34m\u001b[0m\u001b[0m\n\u001b[1;32m      2\u001b[0m \u001b[0;32mfor\u001b[0m \u001b[0mindex\u001b[0m\u001b[0;34m,\u001b[0m \u001b[0mrow\u001b[0m \u001b[0;32min\u001b[0m \u001b[0mdf2_by_value\u001b[0m\u001b[0;34m.\u001b[0m\u001b[0miterrows\u001b[0m\u001b[0;34m(\u001b[0m\u001b[0;34m)\u001b[0m\u001b[0;34m:\u001b[0m\u001b[0;34m\u001b[0m\u001b[0m\n\u001b[0;32m----> 3\u001b[0;31m     \u001b[0;32mfor\u001b[0m \u001b[0mi\u001b[0m\u001b[0;34m,\u001b[0m \u001b[0mr\u001b[0m \u001b[0;32min\u001b[0m \u001b[0mcitycode_df\u001b[0m\u001b[0;34m.\u001b[0m\u001b[0miterrows\u001b[0m\u001b[0;34m(\u001b[0m\u001b[0;34m)\u001b[0m\u001b[0;34m:\u001b[0m\u001b[0;34m\u001b[0m\u001b[0m\n\u001b[0m\u001b[1;32m      4\u001b[0m         \u001b[0;32mif\u001b[0m \u001b[0mr\u001b[0m\u001b[0;34m[\u001b[0m\u001b[0;34m'Code'\u001b[0m\u001b[0;34m]\u001b[0m \u001b[0;34m==\u001b[0m \u001b[0mrow\u001b[0m\u001b[0;34m[\u001b[0m\u001b[0;34m'City'\u001b[0m\u001b[0;34m]\u001b[0m\u001b[0;34m:\u001b[0m\u001b[0;34m\u001b[0m\u001b[0m\n\u001b[1;32m      5\u001b[0m             \u001b[0mrow\u001b[0m\u001b[0;34m[\u001b[0m\u001b[0;34m'City Name'\u001b[0m\u001b[0;34m]\u001b[0m \u001b[0;34m=\u001b[0m \u001b[0mr\u001b[0m\u001b[0;34m[\u001b[0m\u001b[0;34m'City'\u001b[0m\u001b[0;34m]\u001b[0m\u001b[0;34m\u001b[0m\u001b[0m\n",
      "\u001b[0;31mNameError\u001b[0m: name 'citycode_df' is not defined"
     ]
    }
   ],
   "source": [
    "df2_by_value['City Name'] = \"\"\n",
    "for index, row in df2_by_value.iterrows():\n",
    "    for i, r in citycode_df.iterrows():\n",
    "        if r['Code'] == row['City']:\n",
    "            row['City Name'] = r['City']\n",
    "            if index%200 == 0:\n",
    "                print(index)"
   ]
  },
  {
   "cell_type": "code",
   "execution_count": 18,
   "metadata": {},
   "outputs": [],
   "source": [
    "df2_by_value[\"Address\"] = df2_by_value[\"St#\"].astype(str) + \" \" + df2_by_value[\"St Name\"].astype(str) + \" \" + df2_by_value['City Name']\n",
    "df2_by_value['Lat'] = \"\"\n",
    "df2_by_value['Lng'] = \"\""
   ]
  },
  {
   "cell_type": "code",
   "execution_count": 19,
   "metadata": {},
   "outputs": [
    {
     "ename": "NameError",
     "evalue": "name 'api_key' is not defined",
     "output_type": "error",
     "traceback": [
      "\u001b[0;31m---------------------------------------------------------------------------\u001b[0m",
      "\u001b[0;31mNameError\u001b[0m                                 Traceback (most recent call last)",
      "\u001b[0;32m<ipython-input-19-0dfae62b5968>\u001b[0m in \u001b[0;36m<module>\u001b[0;34m()\u001b[0m\n\u001b[0;32m----> 1\u001b[0;31m \u001b[0mparams\u001b[0m \u001b[0;34m=\u001b[0m \u001b[0;34m{\u001b[0m\u001b[0;34m\"key\"\u001b[0m\u001b[0;34m:\u001b[0m \u001b[0mapi_key\u001b[0m\u001b[0;34m}\u001b[0m\u001b[0;34m\u001b[0m\u001b[0m\n\u001b[0m\u001b[1;32m      2\u001b[0m \u001b[0;32mfor\u001b[0m \u001b[0mindex\u001b[0m\u001b[0;34m,\u001b[0m \u001b[0mrow\u001b[0m \u001b[0;32min\u001b[0m \u001b[0mdf2_by_value\u001b[0m\u001b[0;34m.\u001b[0m\u001b[0miterrows\u001b[0m\u001b[0;34m(\u001b[0m\u001b[0;34m)\u001b[0m\u001b[0;34m:\u001b[0m\u001b[0;34m\u001b[0m\u001b[0m\n\u001b[1;32m      3\u001b[0m     \u001b[0mbase_url\u001b[0m \u001b[0;34m=\u001b[0m \u001b[0;34m\"https://maps.googleapis.com/maps/api/geocode/json\"\u001b[0m\u001b[0;34m\u001b[0m\u001b[0m\n\u001b[1;32m      4\u001b[0m     \u001b[0mparams\u001b[0m\u001b[0;34m[\u001b[0m\u001b[0;34m'address'\u001b[0m\u001b[0;34m]\u001b[0m \u001b[0;34m=\u001b[0m \u001b[0mrow\u001b[0m\u001b[0;34m[\u001b[0m\u001b[0;34m'Address'\u001b[0m\u001b[0;34m]\u001b[0m\u001b[0;34m\u001b[0m\u001b[0m\n\u001b[1;32m      5\u001b[0m     \u001b[0mgeo_data\u001b[0m \u001b[0;34m=\u001b[0m \u001b[0mrequests\u001b[0m\u001b[0;34m.\u001b[0m\u001b[0mget\u001b[0m\u001b[0;34m(\u001b[0m\u001b[0mbase_url\u001b[0m\u001b[0;34m,\u001b[0m \u001b[0mparams\u001b[0m\u001b[0;34m)\u001b[0m\u001b[0;34m.\u001b[0m\u001b[0mjson\u001b[0m\u001b[0;34m(\u001b[0m\u001b[0;34m)\u001b[0m\u001b[0;34m\u001b[0m\u001b[0m\n",
      "\u001b[0;31mNameError\u001b[0m: name 'api_key' is not defined"
     ]
    }
   ],
   "source": [
    "params = {\"key\": api_key}\n",
    "for index, row in df2_by_value.iterrows():\n",
    "    base_url = \"https://maps.googleapis.com/maps/api/geocode/json\"\n",
    "    params['address'] = row['Address']\n",
    "    geo_data = requests.get(base_url, params).json()\n",
    "    try:\n",
    "        df2_by_value[\"Lat\"][index] = geo_data[\"results\"][0][\"geometry\"][\"location\"][\"lat\"]\n",
    "        df2_by_value[\"Lng\"][index] = geo_data[\"results\"][0][\"geometry\"][\"location\"][\"lng\"]\n",
    "        if index%100 == 0:\n",
    "            print(index)\n",
    "        if index%500 == 0:\n",
    "            print('Whats up bro, waiting too long? Call me at (949)111-1111')\n",
    "    except IndexError:\n",
    "        print(f\"Row {index} cannot be found on gmap.\")\n",
    "        continue"
   ]
  },
  {
   "cell_type": "code",
   "execution_count": null,
   "metadata": {},
   "outputs": [],
   "source": [
    "# Output to CSV\n",
    "df2_by_value.to_csv(\"Data/df2_latlng.csv\")"
   ]
  },
  {
   "cell_type": "markdown",
   "metadata": {},
   "source": [
    "### Plotting df2_latlng"
   ]
  },
  {
   "cell_type": "code",
   "execution_count": 9,
   "metadata": {},
   "outputs": [],
   "source": [
    "df2_latlng = pd.read_csv(\"Data/df2_latlng.csv\")"
   ]
  },
  {
   "cell_type": "code",
   "execution_count": 10,
   "metadata": {},
   "outputs": [],
   "source": [
    "df2_latlng = df2_latlng[['L/C Price','Lat', 'Lng']].dropna()"
   ]
  },
  {
   "cell_type": "code",
   "execution_count": 11,
   "metadata": {},
   "outputs": [],
   "source": [
    "top5_df2 = df2_latlng.iloc[:round(len(df2_latlng['L/C Price'])*0.05), :].sort_values('L/C Price', ascending=True)\n",
    "bottom5_df2 = df2_latlng.iloc[round(len(df2_latlng['L/C Price'])*0.95): len(df2_latlng['L/C Price']),:].sort_values('L/C Price', ascending=True)"
   ]
  },
  {
   "cell_type": "code",
   "execution_count": 13,
   "metadata": {},
   "outputs": [],
   "source": [
    "# Set the center of the map\n",
    "gmap_df2_tab = gmplot.GoogleMapPlotter(top5_df2['Lat'].median(),\n",
    "                                   top5_df2['Lng'].median(), 100000)\n",
    "# Plot scatter points based on LatLng\n",
    "gmap_df2_tab.scatter(top5_df2['Lat'], top5_df2['Lng'], '#FF0000', \n",
    "                              size = 2000, marker = False ) \n",
    "gmap_df2_tab.scatter(bottom5_df2['Lat'], bottom5_df2['Lng'], '#110870', \n",
    "                              size = 2000, marker = False ) \n",
    "# Draw out to 'Plot' folder in html format\n",
    "gmap_df2_tab.draw(\"Plot/gmap_df2_tab.html\")"
   ]
  },
  {
   "cell_type": "code",
   "execution_count": 14,
   "metadata": {},
   "outputs": [],
   "source": [
    "# Set the center of the map\n",
    "gmap_df2 = gmplot.GoogleMapPlotter(df2_latlng['Lat'].median(),\n",
    "                                df2_latlng['Lng'].median(), 100)\n",
    "# Plot scatter points based on LatLng\n",
    "gmap_df2.scatter(df2_latlng['Lat'], df2_latlng['Lng'], '#FF0000', \n",
    "                              size = 1000, marker = False) \n",
    "# Draw out to 'Plot' folder in html format\n",
    "gmap_df2.draw(\"Plot/gmap_df2.html\")"
   ]
  },
  {
   "cell_type": "code",
   "execution_count": null,
   "metadata": {},
   "outputs": [],
   "source": []
  }
 ],
 "metadata": {
  "kernelspec": {
   "display_name": "Python [default]",
   "language": "python",
   "name": "python3"
  },
  "language_info": {
   "codemirror_mode": {
    "name": "ipython",
    "version": 3
   },
   "file_extension": ".py",
   "mimetype": "text/x-python",
   "name": "python",
   "nbconvert_exporter": "python",
   "pygments_lexer": "ipython3",
   "version": "3.6.5"
  }
 },
 "nbformat": 4,
 "nbformat_minor": 2
}
